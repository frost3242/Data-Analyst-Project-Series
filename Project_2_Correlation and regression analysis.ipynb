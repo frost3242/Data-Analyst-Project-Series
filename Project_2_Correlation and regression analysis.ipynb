{
  "nbformat": 4,
  "nbformat_minor": 0,
  "metadata": {
    "colab": {
      "provenance": [],
      "authorship_tag": "ABX9TyNnvWVsvRKB+lRdlYeKipb+",
      "include_colab_link": true
    },
    "kernelspec": {
      "name": "python3",
      "display_name": "Python 3"
    },
    "language_info": {
      "name": "python"
    }
  },
  "cells": [
    {
      "cell_type": "markdown",
      "metadata": {
        "id": "view-in-github",
        "colab_type": "text"
      },
      "source": [
        "<a href=\"https://colab.research.google.com/github/frost3242/Data-Analyst-Project-Series/blob/main/Project_2_Correlation%20and%20regression%20analysis.ipynb\" target=\"_parent\"><img src=\"https://colab.research.google.com/assets/colab-badge.svg\" alt=\"Open In Colab\"/></a>"
      ]
    },
    {
      "cell_type": "code",
      "execution_count": 19,
      "metadata": {
        "id": "WXstS-X0dcVJ"
      },
      "outputs": [],
      "source": [
        "import pandas as pd\n",
        "import numpy as np\n",
        "import matplotlib.pyplot as plt\n"
      ]
    },
    {
      "cell_type": "code",
      "source": [
        "df=pd.read_csv(\"weather.csv\")"
      ],
      "metadata": {
        "id": "W0tNDIBvd2S_"
      },
      "execution_count": 6,
      "outputs": []
    },
    {
      "cell_type": "code",
      "source": [
        "correlation_matrix = df[[\"Cloud9am\",\"Temp9am\",\"Humidity9am\",\"Pressure9am\",\"WindDir9am\",\"Rainfall\"]].corr()\n",
        "print(correlation_matrix)\n",
        "\n",
        "plt.matshow(correlation_matrix)\n",
        "plt.title(\"Correlation Matrix\")\n",
        "plt.show()"
      ],
      "metadata": {
        "colab": {
          "base_uri": "https://localhost:8080/",
          "height": 618
        },
        "id": "DyqPjyDTgduF",
        "outputId": "d7cf4622-d10c-4c93-d401-ccbf04242244"
      },
      "execution_count": 33,
      "outputs": [
        {
          "output_type": "stream",
          "name": "stderr",
          "text": [
            "<ipython-input-33-962d9ddda1f6>:1: FutureWarning: The default value of numeric_only in DataFrame.corr is deprecated. In a future version, it will default to False. Select only valid columns or specify the value of numeric_only to silence this warning.\n",
            "  correlation_matrix = df[[\"Cloud9am\",\"Temp9am\",\"Humidity9am\",\"Pressure9am\",\"WindDir9am\",\"Rainfall\"]].corr()\n"
          ]
        },
        {
          "output_type": "stream",
          "name": "stdout",
          "text": [
            "             Cloud9am   Temp9am  Humidity9am  Pressure9am  Rainfall\n",
            "Cloud9am     1.000000  0.021041     0.392842    -0.157553  0.180046\n",
            "Temp9am      0.021041  1.000000    -0.436551    -0.460418  0.077299\n",
            "Humidity9am  0.392842 -0.436551     1.000000     0.135727  0.150109\n",
            "Pressure9am -0.157553 -0.460418     0.135727     1.000000 -0.331581\n",
            "Rainfall     0.180046  0.077299     0.150109    -0.331581  1.000000\n"
          ]
        },
        {
          "output_type": "display_data",
          "data": {
            "text/plain": [
              "<Figure size 480x480 with 1 Axes>"
            ],
            "image/png": "[encoded data removed]"
          },
          "metadata": {}
        }
      ]
    },
    {
      "cell_type": "code",
      "source": [
        "X = df[[\"Temp9am\", \"Humidity9am\",\"Pressure9am\"]]\n",
        "y = df[\"Rainfall\"]\n",
        "\n",
        "from sklearn.linear_model import LinearRegression\n",
        "model = LinearRegression()\n",
        "model.fit(X, y)\n",
        "\n",
        "print(model.score(X, y))\n",
        "\n"
      ],
      "metadata": {
        "colab": {
          "base_uri": "https://localhost:8080/"
        },
        "id": "9j_WOgYqhFOZ",
        "outputId": "35823f74-6884-4db7-8e14-e7a09102aa63"
      },
      "execution_count": 41,
      "outputs": [
        {
          "output_type": "stream",
          "name": "stdout",
          "text": [
            "0.14873152241223575\n"
          ]
        }
      ]
    },
    {
      "cell_type": "code",
      "source": [
        "new_temperature = 15\n",
        "new_humidity = 80\n",
        "new_pressure=1020\n",
        "prediction = model.predict([[new_temperature, new_humidity,new_pressure]])\n",
        "print(f\"Predicted rainfall: {prediction[0]}\")\n"
      ],
      "metadata": {
        "colab": {
          "base_uri": "https://localhost:8080/"
        },
        "id": "6VP9zR7jkN6A",
        "outputId": "c7ffd73a-ab7d-4130-e8e3-3a78f25f8605"
      },
      "execution_count": 42,
      "outputs": [
        {
          "output_type": "stream",
          "name": "stdout",
          "text": [
            "Predicted rainfall: 1.8669619876942818\n"
          ]
        },
        {
          "output_type": "stream",
          "name": "stderr",
          "text": [
            "/usr/local/lib/python3.10/dist-packages/sklearn/base.py:439: UserWarning: X does not have valid feature names, but LinearRegression was fitted with feature names\n",
            "  warnings.warn(\n"
          ]
        }
      ]
    }
  ]
}