{
  "nbformat": 4,
  "nbformat_minor": 0,
  "metadata": {
    "colab": {
      "provenance": [],
      "authorship_tag": "ABX9TyO5OTexoO4KXOY8zMvvm8Gx",
      "include_colab_link": true
    },
    "kernelspec": {
      "name": "python3",
      "display_name": "Python 3"
    },
    "language_info": {
      "name": "python"
    }
  },
  "cells": [
    {
      "cell_type": "markdown",
      "metadata": {
        "id": "view-in-github",
        "colab_type": "text"
      },
      "source": [
        "<a href=\"https://colab.research.google.com/github/frost3242/Data-Analyst-Project-Series/blob/main/Project2_weather_datset_code.ipynb\" target=\"_parent\"><img src=\"https://colab.research.google.com/assets/colab-badge.svg\" alt=\"Open In Colab\"/></a>"
      ]
    },
    {
      "cell_type": "code",
      "execution_count": 1,
      "metadata": {
        "id": "Ql6jK4va1G6S"
      },
      "outputs": [],
      "source": [
        "import pandas as pd\n",
        "import numpy as np"
      ]
    },
    {
      "cell_type": "code",
      "source": [
        "df = pd.read_csv('weather.csv')\n"
      ],
      "metadata": {
        "id": "xP7MMa_b2fZb"
      },
      "execution_count": 2,
      "outputs": []
    },
    {
      "cell_type": "code",
      "source": [
        "print(df.head())\n",
        "print(df.info())\n",
        "\n"
      ],
      "metadata": {
        "colab": {
          "base_uri": "https://localhost:8080/"
        },
        "id": "2epwMnGM2lQo",
        "outputId": "83a3ca50-a870-4709-dcba-d2b38596830a"
      },
      "execution_count": 3,
      "outputs": [
        {
          "output_type": "stream",
          "name": "stdout",
          "text": [
            "   MinTemp  MaxTemp  Rainfall  Evaporation  Sunshine WindGustDir  \\\n",
            "0      8.0     24.3       0.0          3.4       6.3          NW   \n",
            "1     14.0     26.9       3.6          4.4       9.7         ENE   \n",
            "2     13.7     23.4       3.6          5.8       3.3          NW   \n",
            "3     13.3     15.5      39.8          7.2       9.1          NW   \n",
            "4      7.6     16.1       2.8          5.6      10.6         SSE   \n",
            "\n",
            "   WindGustSpeed WindDir9am WindDir3pm  WindSpeed9am  ...  Humidity3pm  \\\n",
            "0           30.0         SW         NW           6.0  ...           29   \n",
            "1           39.0          E          W           4.0  ...           36   \n",
            "2           85.0          N        NNE           6.0  ...           69   \n",
            "3           54.0        WNW          W          30.0  ...           56   \n",
            "4           50.0        SSE        ESE          20.0  ...           49   \n",
            "\n",
            "   Pressure9am  Pressure3pm  Cloud9am  Cloud3pm  Temp9am  Temp3pm  RainToday  \\\n",
            "0       1019.7       1015.0         7         7     14.4     23.6         No   \n",
            "1       1012.4       1008.4         5         3     17.5     25.7        Yes   \n",
            "2       1009.5       1007.2         8         7     15.4     20.2        Yes   \n",
            "3       1005.5       1007.0         2         7     13.5     14.1        Yes   \n",
            "4       1018.3       1018.5         7         7     11.1     15.4        Yes   \n",
            "\n",
            "   RISK_MM RainTomorrow  \n",
            "0      3.6          Yes  \n",
            "1      3.6          Yes  \n",
            "2     39.8          Yes  \n",
            "3      2.8          Yes  \n",
            "4      0.0           No  \n",
            "\n",
            "[5 rows x 22 columns]\n",
            "<class 'pandas.core.frame.DataFrame'>\n",
            "RangeIndex: 366 entries, 0 to 365\n",
            "Data columns (total 22 columns):\n",
            " #   Column         Non-Null Count  Dtype  \n",
            "---  ------         --------------  -----  \n",
            " 0   MinTemp        366 non-null    float64\n",
            " 1   MaxTemp        366 non-null    float64\n",
            " 2   Rainfall       366 non-null    float64\n",
            " 3   Evaporation    366 non-null    float64\n",
            " 4   Sunshine       363 non-null    float64\n",
            " 5   WindGustDir    363 non-null    object \n",
            " 6   WindGustSpeed  364 non-null    float64\n",
            " 7   WindDir9am     335 non-null    object \n",
            " 8   WindDir3pm     365 non-null    object \n",
            " 9   WindSpeed9am   359 non-null    float64\n",
            " 10  WindSpeed3pm   366 non-null    int64  \n",
            " 11  Humidity9am    366 non-null    int64  \n",
            " 12  Humidity3pm    366 non-null    int64  \n",
            " 13  Pressure9am    366 non-null    float64\n",
            " 14  Pressure3pm    366 non-null    float64\n",
            " 15  Cloud9am       366 non-null    int64  \n",
            " 16  Cloud3pm       366 non-null    int64  \n",
            " 17  Temp9am        366 non-null    float64\n",
            " 18  Temp3pm        366 non-null    float64\n",
            " 19  RainToday      366 non-null    object \n",
            " 20  RISK_MM        366 non-null    float64\n",
            " 21  RainTomorrow   366 non-null    object \n",
            "dtypes: float64(12), int64(5), object(5)\n",
            "memory usage: 63.0+ KB\n",
            "None\n"
          ]
        }
      ]
    },
    {
      "cell_type": "code",
      "source": [
        "print(df.describe())"
      ],
      "metadata": {
        "colab": {
          "base_uri": "https://localhost:8080/"
        },
        "id": "zIpYPyg-3Jzo",
        "outputId": "e59596e0-003c-468c-e93a-d42bca10c642"
      },
      "execution_count": 4,
      "outputs": [
        {
          "output_type": "stream",
          "name": "stdout",
          "text": [
            "          MinTemp     MaxTemp    Rainfall  Evaporation    Sunshine  \\\n",
            "count  366.000000  366.000000  366.000000   366.000000  363.000000   \n",
            "mean     7.265574   20.550273    1.428415     4.521858    7.909366   \n",
            "std      6.025800    6.690516    4.225800     2.669383    3.481517   \n",
            "min     -5.300000    7.600000    0.000000     0.200000    0.000000   \n",
            "25%      2.300000   15.025000    0.000000     2.200000    5.950000   \n",
            "50%      7.450000   19.650000    0.000000     4.200000    8.600000   \n",
            "75%     12.500000   25.500000    0.200000     6.400000   10.500000   \n",
            "max     20.900000   35.800000   39.800000    13.800000   13.600000   \n",
            "\n",
            "       WindGustSpeed  WindSpeed9am  WindSpeed3pm  Humidity9am  Humidity3pm  \\\n",
            "count     364.000000    359.000000    366.000000   366.000000   366.000000   \n",
            "mean       39.840659      9.651811     17.986339    72.035519    44.519126   \n",
            "std        13.059807      7.951929      8.856997    13.137058    16.850947   \n",
            "min        13.000000      0.000000      0.000000    36.000000    13.000000   \n",
            "25%        31.000000      6.000000     11.000000    64.000000    32.250000   \n",
            "50%        39.000000      7.000000     17.000000    72.000000    43.000000   \n",
            "75%        46.000000     13.000000     24.000000    81.000000    55.000000   \n",
            "max        98.000000     41.000000     52.000000    99.000000    96.000000   \n",
            "\n",
            "       Pressure9am  Pressure3pm    Cloud9am    Cloud3pm     Temp9am  \\\n",
            "count   366.000000   366.000000  366.000000  366.000000  366.000000   \n",
            "mean   1019.709016  1016.810383    3.890710    4.024590   12.358470   \n",
            "std       6.686212     6.469422    2.956131    2.666268    5.630832   \n",
            "min     996.500000   996.800000    0.000000    0.000000    0.100000   \n",
            "25%    1015.350000  1012.800000    1.000000    1.000000    7.625000   \n",
            "50%    1020.150000  1017.400000    3.500000    4.000000   12.550000   \n",
            "75%    1024.475000  1021.475000    7.000000    7.000000   17.000000   \n",
            "max    1035.700000  1033.200000    8.000000    8.000000   24.700000   \n",
            "\n",
            "          Temp3pm     RISK_MM  \n",
            "count  366.000000  366.000000  \n",
            "mean    19.230874    1.428415  \n",
            "std      6.640346    4.225800  \n",
            "min      5.100000    0.000000  \n",
            "25%     14.150000    0.000000  \n",
            "50%     18.550000    0.000000  \n",
            "75%     24.000000    0.200000  \n",
            "max     34.500000   39.800000  \n"
          ]
        }
      ]
    },
    {
      "cell_type": "code",
      "source": [
        "print(df.isnull().sum())"
      ],
      "metadata": {
        "colab": {
          "base_uri": "https://localhost:8080/"
        },
        "id": "X2yuCCpj2tG4",
        "outputId": "7ffb6a55-5c10-4b4a-8885-0bf9149a8eef"
      },
      "execution_count": 5,
      "outputs": [
        {
          "output_type": "stream",
          "name": "stdout",
          "text": [
            "MinTemp           0\n",
            "MaxTemp           0\n",
            "Rainfall          0\n",
            "Evaporation       0\n",
            "Sunshine          3\n",
            "WindGustDir       3\n",
            "WindGustSpeed     2\n",
            "WindDir9am       31\n",
            "WindDir3pm        1\n",
            "WindSpeed9am      7\n",
            "WindSpeed3pm      0\n",
            "Humidity9am       0\n",
            "Humidity3pm       0\n",
            "Pressure9am       0\n",
            "Pressure3pm       0\n",
            "Cloud9am          0\n",
            "Cloud3pm          0\n",
            "Temp9am           0\n",
            "Temp3pm           0\n",
            "RainToday         0\n",
            "RISK_MM           0\n",
            "RainTomorrow      0\n",
            "dtype: int64\n"
          ]
        }
      ]
    },
    {
      "cell_type": "code",
      "source": [
        "print(df.duplicated().sum())"
      ],
      "metadata": {
        "colab": {
          "base_uri": "https://localhost:8080/"
        },
        "id": "WJgAyHLf4cEZ",
        "outputId": "570fec49-c288-40aa-ad98-91d4f358afde"
      },
      "execution_count": 6,
      "outputs": [
        {
          "output_type": "stream",
          "name": "stdout",
          "text": [
            "0\n"
          ]
        }
      ]
    },
    {
      "cell_type": "code",
      "source": [
        "df.dropna(inplace=True)\n",
        "df.drop_duplicates(inplace=True)"
      ],
      "metadata": {
        "id": "dHHj2JSk207i"
      },
      "execution_count": 7,
      "outputs": []
    },
    {
      "cell_type": "code",
      "source": [
        "print(df.isnull().sum())"
      ],
      "metadata": {
        "colab": {
          "base_uri": "https://localhost:8080/"
        },
        "id": "K-_6UsAT49JL",
        "outputId": "a76eee67-c7cd-4e5b-d027-e6686bd6bea1"
      },
      "execution_count": 8,
      "outputs": [
        {
          "output_type": "stream",
          "name": "stdout",
          "text": [
            "MinTemp          0\n",
            "MaxTemp          0\n",
            "Rainfall         0\n",
            "Evaporation      0\n",
            "Sunshine         0\n",
            "WindGustDir      0\n",
            "WindGustSpeed    0\n",
            "WindDir9am       0\n",
            "WindDir3pm       0\n",
            "WindSpeed9am     0\n",
            "WindSpeed3pm     0\n",
            "Humidity9am      0\n",
            "Humidity3pm      0\n",
            "Pressure9am      0\n",
            "Pressure3pm      0\n",
            "Cloud9am         0\n",
            "Cloud3pm         0\n",
            "Temp9am          0\n",
            "Temp3pm          0\n",
            "RainToday        0\n",
            "RISK_MM          0\n",
            "RainTomorrow     0\n",
            "dtype: int64\n"
          ]
        }
      ]
    },
    {
      "cell_type": "code",
      "source": [
        "df['WindGustSpeed'] = pd.to_numeric(df['WindGustSpeed'])\n",
        "df['Sunshine'] = pd.to_numeric(df['Sunshine'])\n",
        "df['WindSpeed9am'] = pd.to_numeric(df['WindSpeed9am'])\n"
      ],
      "metadata": {
        "id": "Fl07IxGO53Sy"
      },
      "execution_count": 9,
      "outputs": []
    },
    {
      "cell_type": "code",
      "source": [
        "df = df.dropna(subset=[\"Sunshine\", \"WindGustDir\",\"WindGustSpeed\",\"WindDir9am\",\"WindDir3pm\",\"WindSpeed9am\"])"
      ],
      "metadata": {
        "id": "hfe4mVb76mkm"
      },
      "execution_count": 10,
      "outputs": []
    },
    {
      "cell_type": "code",
      "source": [
        "columns_to_handle = [\"MinTemp\", \"MaxTemp\", \"Rainfall\",\"Evaporation\",\"Sunshine\",\"WindGustSpeed\",\"WindSpeed9am\",\"WindSpeed3pm\",\"Humidity9am\",\"Humidity3pm\",\"Pressure9am\",\"Pressure3pm\",\"Cloud9am\",\"Cloud3pm\",\"Temp9am\",\"Temp3pm\",\"RISK_MM\"]\n",
        "\n",
        "for col in columns_to_handle:\n",
        "    Q1 = df[col].quantile(0.25)\n",
        "    Q3 = df[col].quantile(0.75)\n",
        "    IQR = Q3 - Q1\n",
        "    lower_bound = Q1 - 1.5 * IQR\n",
        "    upper_bound = Q3 + 1.5 * IQR\n",
        "\n",
        "    # Filter rows within bounds\n",
        "    df = df[~((df[col] < lower_bound) | (df[col] > upper_bound))]"
      ],
      "metadata": {
        "id": "u9BcRYW7ECCJ"
      },
      "execution_count": 11,
      "outputs": []
    },
    {
      "cell_type": "code",
      "source": [
        "df.to_csv('cleaned_weather_data.csv', index=False)"
      ],
      "metadata": {
        "id": "z-UcLALGF1iA"
      },
      "execution_count": 13,
      "outputs": []
    }
  ]
}